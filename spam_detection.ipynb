{
 "cells": [
  {
   "cell_type": "code",
   "execution_count": 1,
   "id": "3c11aa72",
   "metadata": {},
   "outputs": [],
   "source": [
    "import numpy as np \n",
    "import pandas as pd \n",
    "from sklearn.naive_bayes import BernoulliNB\n",
    "from sklearn.feature_extraction.text import CountVectorizer"
   ]
  },
  {
   "cell_type": "markdown",
   "id": "c38d5675",
   "metadata": {},
   "source": [
    "data analysis "
   ]
  },
  {
   "cell_type": "code",
   "execution_count": 5,
   "id": "87253dbd",
   "metadata": {},
   "outputs": [
    {
     "name": "stdout",
     "output_type": "stream",
     "text": [
      "(5171, 4)\n",
      "Index(['Unnamed: 0', 'label', 'text', 'label_num'], dtype='object')\n"
     ]
    }
   ],
   "source": [
    "df=pd.read_csv(\"spam_ham_dataset.csv\")\n",
    "print(df.shape)\n",
    "print(df.columns)\n",
    "df= df.drop(['Unnamed: 0'], axis=1)"
   ]
  },
  {
   "cell_type": "markdown",
   "id": "73f63ea5",
   "metadata": {},
   "source": [
    "count vectorizer "
   ]
  },
  {
   "cell_type": "code",
   "execution_count": 6,
   "id": "08e9064b",
   "metadata": {},
   "outputs": [],
   "source": [
    "x=df[\"text\"].values \n",
    "y=df[\"label_num\"].values\n",
    "cv=CountVectorizer()\n",
    "x=cv.fit_transform(x)"
   ]
  },
  {
   "cell_type": "markdown",
   "id": "5579f706",
   "metadata": {},
   "source": [
    "data spliting,model training "
   ]
  },
  {
   "cell_type": "code",
   "execution_count": 10,
   "id": "2ca50eed",
   "metadata": {},
   "outputs": [
    {
     "name": "stdout",
     "output_type": "stream",
     "text": [
      "              precision    recall  f1-score   support\n",
      "\n",
      "           0       0.84      0.98      0.91       732\n",
      "           1       0.92      0.56      0.70       303\n",
      "\n",
      "    accuracy                           0.86      1035\n",
      "   macro avg       0.88      0.77      0.80      1035\n",
      "weighted avg       0.87      0.86      0.84      1035\n",
      "\n"
     ]
    }
   ],
   "source": [
    "from sklearn.model_selection import train_test_split\n",
    "X_train, X_test, y_train, y_test = train_test_split(x, y, test_size=0.20, random_state=0)\\\n",
    "\n",
    "bnb = BernoulliNB(binarize=0.0)\n",
    "model = bnb.fit(X_train, y_train)\n",
    "y_pred = bnb.predict(X_test)\n",
    "\n",
    "from sklearn.metrics import classification_report\n",
    "print(classification_report(y_test, y_pred))"
   ]
  }
 ],
 "metadata": {
  "kernelspec": {
   "display_name": "Python 3",
   "language": "python",
   "name": "python3"
  },
  "language_info": {
   "codemirror_mode": {
    "name": "ipython",
    "version": 3
   },
   "file_extension": ".py",
   "mimetype": "text/x-python",
   "name": "python",
   "nbconvert_exporter": "python",
   "pygments_lexer": "ipython3",
   "version": "3.13.7"
  }
 },
 "nbformat": 4,
 "nbformat_minor": 5
}
