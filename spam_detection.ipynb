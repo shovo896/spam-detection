{
 "cells": [
  {
   "cell_type": "code",
   "execution_count": 1,
   "id": "3c11aa72",
   "metadata": {},
   "outputs": [],
   "source": [
    "import numpy as np \n",
    "import pandas as pd \n",
    "from sklearn.naive_bayes import BernoulliNB\n",
    "from sklearn.feature_extraction.text import CountVectorizer"
   ]
  },
  {
   "cell_type": "markdown",
   "id": "c38d5675",
   "metadata": {},
   "source": [
    "data analysis "
   ]
  },
  {
   "cell_type": "code",
   "execution_count": 5,
   "id": "87253dbd",
   "metadata": {},
   "outputs": [
    {
     "name": "stdout",
     "output_type": "stream",
     "text": [
      "(5171, 4)\n",
      "Index(['Unnamed: 0', 'label', 'text', 'label_num'], dtype='object')\n"
     ]
    }
   ],
   "source": [
    "df=pd.read_csv(\"spam_ham_dataset.csv\")\n",
    "print(df.shape)\n",
    "print(df.columns)\n",
    "df= df.drop(['Unnamed: 0'], axis=1)"
   ]
  },
  {
   "cell_type": "markdown",
   "id": "73f63ea5",
   "metadata": {},
   "source": [
    "count vectorizer "
   ]
  },
  {
   "cell_type": "code",
   "execution_count": 6,
   "id": "08e9064b",
   "metadata": {},
   "outputs": [],
   "source": [
    "x=df[\"text\"].values \n",
    "y=df[\"label_num\"].values\n",
    "cv=CountVectorizer()\n",
    "x=cv.fit_transform(x)"
   ]
  },
  {
   "cell_type": "markdown",
   "id": "5579f706",
   "metadata": {},
   "source": [
    "data spliting,model training "
   ]
  },
  {
   "cell_type": "code",
   "execution_count": null,
   "id": "2ca50eed",
   "metadata": {},
   "outputs": [],
   "source": []
  }
 ],
 "metadata": {
  "kernelspec": {
   "display_name": "Python 3",
   "language": "python",
   "name": "python3"
  },
  "language_info": {
   "codemirror_mode": {
    "name": "ipython",
    "version": 3
   },
   "file_extension": ".py",
   "mimetype": "text/x-python",
   "name": "python",
   "nbconvert_exporter": "python",
   "pygments_lexer": "ipython3",
   "version": "3.13.7"
  }
 },
 "nbformat": 4,
 "nbformat_minor": 5
}
