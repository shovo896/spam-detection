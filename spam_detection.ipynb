{
 "cells": [
  {
   "cell_type": "code",
   "execution_count": 1,
   "id": "3c11aa72",
   "metadata": {},
   "outputs": [],
   "source": [
    "import numpy as np \n",
    "import pandas as pd \n",
    "from sklearn.naive_bayes import BernoulliNB\n",
    "from sklearn.feature_extraction.text import CountVectorizer"
   ]
  },
  {
   "cell_type": "markdown",
   "id": "c38d5675",
   "metadata": {},
   "source": [
    "data analysis "
   ]
  },
  {
   "cell_type": "code",
   "execution_count": 5,
   "id": "87253dbd",
   "metadata": {},
   "outputs": [
    {
     "name": "stdout",
     "output_type": "stream",
     "text": [
      "(5171, 4)\n",
      "Index(['Unnamed: 0', 'label', 'text', 'label_num'], dtype='object')\n"
     ]
    }
   ],
   "source": [
    "df=pd.read_csv(\"spam_ham_dataset.csv\")\n",
    "print(df.shape)\n",
    "print(df.columns)\n",
    "df= df.drop(['Unnamed: 0'], axis=1)"
   ]
  },
  {
   "cell_type": "markdown",
   "id": "73f63ea5",
   "metadata": {},
   "source": [
    "count vectorizer "
   ]
  },
  {
   "cell_type": "code",
   "execution_count": 6,
   "id": "08e9064b",
   "metadata": {},
   "outputs": [],
   "source": [
    "x=df[\"text\"].values \n",
    "y=df[\"label_num\"].values\n",
    "cv=CountVectorizer()\n",
    "x=cv.fit_transform(x)"
   ]
  },
  {
   "cell_type": "markdown",
   "id": "5579f706",
   "metadata": {},
   "source": [
    "data spliting,model training "
   ]
  },
  {
   "cell_type": "code",
   "execution_count": 9,
   "id": "2ca50eed",
   "metadata": {},
   "outputs": [
    {
     "ename": "AttributeError",
     "evalue": "'csr_matrix' object has no attribute 'y_train'",
     "output_type": "error",
     "traceback": [
      "\u001b[31m---------------------------------------------------------------------------\u001b[39m",
      "\u001b[31mAttributeError\u001b[39m                            Traceback (most recent call last)",
      "\u001b[36mCell\u001b[39m\u001b[36m \u001b[39m\u001b[32mIn[9]\u001b[39m\u001b[32m, line 5\u001b[39m\n\u001b[32m      2\u001b[39m X_train,X_test,y_train,y_test=train_test_split(x,y,test_size=\u001b[32m0.20\u001b[39m,random_state=\u001b[32m0\u001b[39m)\n\u001b[32m      4\u001b[39m bnb=BernoulliNB(binarize=\u001b[32m0.0\u001b[39m)\n\u001b[32m----> \u001b[39m\u001b[32m5\u001b[39m model=bnb.fit(\u001b[43mX_train\u001b[49m\u001b[43m.\u001b[49m\u001b[43my_train\u001b[49m)\n\u001b[32m      6\u001b[39m y_pred=bnb.predict(X_test)\n\u001b[32m      8\u001b[39m \u001b[38;5;28;01mfrom\u001b[39;00m\u001b[38;5;250m \u001b[39m\u001b[34;01msklearn\u001b[39;00m\u001b[34;01m.\u001b[39;00m\u001b[34;01mmetrics\u001b[39;00m\u001b[38;5;250m \u001b[39m\u001b[38;5;28;01mimport\u001b[39;00m classification_report \n",
      "\u001b[31mAttributeError\u001b[39m: 'csr_matrix' object has no attribute 'y_train'"
     ]
    }
   ],
   "source": [
    "from sklearn.model_selection import train_test_split \n",
    "X_train,X_test,y_train,y_test=train_test_split(x,y,test_size=0.20,random_state=0)\n",
    "\n",
    "bnb=BernoulliNB(binarize=0.0)\n",
    "model=bnb.fit(X_train.y_train)\n",
    "y_pred=bnb.predict(X_test)\n",
    "\n",
    "from sklearn.metrics import classification_report \n",
    "print(classification_report(y_test,y_pred))"
   ]
  }
 ],
 "metadata": {
  "kernelspec": {
   "display_name": "Python 3",
   "language": "python",
   "name": "python3"
  },
  "language_info": {
   "codemirror_mode": {
    "name": "ipython",
    "version": 3
   },
   "file_extension": ".py",
   "mimetype": "text/x-python",
   "name": "python",
   "nbconvert_exporter": "python",
   "pygments_lexer": "ipython3",
   "version": "3.13.7"
  }
 },
 "nbformat": 4,
 "nbformat_minor": 5
}
